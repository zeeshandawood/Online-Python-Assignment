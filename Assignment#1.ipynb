{
 "cells": [
  {
   "cell_type": "code",
   "execution_count": 5,
   "metadata": {},
   "outputs": [
    {
     "name": "stdout",
     "output_type": "stream",
     "text": [
      "Twinkle, twinkle, little star,\n",
      "       How I wonder what you are! \n",
      "             Up above the world so high, \n",
      "             Like a diamond in the sky.\n",
      "Twinkle, twinkle, little star, \n",
      "       How I wonder what you are\n"
     ]
    }
   ],
   "source": [
    "# 1. Write a Python program to print the following string in a specific format?\n",
    "\n",
    "a = \"Twinkle, twinkle, little star,\"\n",
    "b = \"       How I wonder what you are! \"\n",
    "c = \"             Up above the world so high, \"\n",
    "d = \"             Like a diamond in the sky.\"\n",
    "e = \"Twinkle, twinkle, little star, \"\n",
    "f = \"       How I wonder what you are\"\n",
    "\n",
    "print(a)\n",
    "print(b)\n",
    "print(c)\n",
    "print(d)\n",
    "print(e)\n",
    "print(f)\n"
   ]
  },
  {
   "cell_type": "code",
   "execution_count": 6,
   "metadata": {},
   "outputs": [
    {
     "name": "stdout",
     "output_type": "stream",
     "text": [
      "Python version\n",
      "3.7.4 (default, Aug  9 2019, 18:34:13) [MSC v.1915 64 bit (AMD64)]\n"
     ]
    }
   ],
   "source": [
    "# 2. Write a Python program to get the Python version you are using?\n",
    "\n",
    "import sys\n",
    "print(\"Python version\")\n",
    "print (sys.version)\n"
   ]
  },
  {
   "cell_type": "code",
   "execution_count": 7,
   "metadata": {},
   "outputs": [
    {
     "name": "stdout",
     "output_type": "stream",
     "text": [
      "Now Date and Time is = 2019-11-03 22:08:54.057259\n"
     ]
    }
   ],
   "source": [
    "# 3. Write a Python program to display the current date and time?\n",
    "\n",
    "from datetime import datetime\n",
    "now = datetime.now()\n",
    "print(\"Now Date and Time is =\", now)"
   ]
  },
  {
   "cell_type": "code",
   "execution_count": 8,
   "metadata": {},
   "outputs": [
    {
     "name": "stdout",
     "output_type": "stream",
     "text": [
      "Input the radius of the circle : 25\n",
      "The area of the circle with radius 25.0 is: 1963.4954084936207\n"
     ]
    }
   ],
   "source": [
    "# 4. Write a Python program which accepts the radius of a circle from the user\n",
    "# and compute the area.\n",
    "from math import pi\n",
    "r = float(input (\"Input the radius of the circle : \"))\n",
    "print (\"The area of the circle with radius \" + str(r) + \" is: \" + str(pi * r**2))\n"
   ]
  },
  {
   "cell_type": "code",
   "execution_count": 9,
   "metadata": {},
   "outputs": [
    {
     "name": "stdout",
     "output_type": "stream",
     "text": [
      "Input your First Name : Zeeshan\n",
      "Input your Last Name : Dawood\n",
      "Hello  Dawood Zeeshan\n"
     ]
    }
   ],
   "source": [
    "\"\"\" Write a Python program which accepts the user's first and last name and\n",
    "print them in reverse order with a space between them.\"\"\"\n",
    "\n",
    "fname = input(\"Input your First Name : \")\n",
    "lname = input(\"Input your Last Name : \")\n",
    "print (\"Hello  \" + lname + \" \" + fname)\n",
    "\n"
   ]
  },
  {
   "cell_type": "code",
   "execution_count": 10,
   "metadata": {},
   "outputs": [
    {
     "name": "stdout",
     "output_type": "stream",
     "text": [
      "Enter Number first  5\n",
      "Enter Number Second  6\n",
      "11\n"
     ]
    }
   ],
   "source": [
    "# Write a python program which takes two inputs from user and print them\n",
    "# addition?\n",
    "\n",
    "f = int(input(\"Enter Number first  \"))\n",
    "l = int(input(\"Enter Number Second  \"))\n",
    "z = f + l\n",
    "print(z)\n"
   ]
  },
  {
   "cell_type": "code",
   "execution_count": null,
   "metadata": {},
   "outputs": [],
   "source": []
  }
 ],
 "metadata": {
  "kernelspec": {
   "display_name": "Python 3",
   "language": "python",
   "name": "python3"
  },
  "language_info": {
   "codemirror_mode": {
    "name": "ipython",
    "version": 3
   },
   "file_extension": ".py",
   "mimetype": "text/x-python",
   "name": "python",
   "nbconvert_exporter": "python",
   "pygments_lexer": "ipython3",
   "version": "3.7.4"
  }
 },
 "nbformat": 4,
 "nbformat_minor": 2
}
