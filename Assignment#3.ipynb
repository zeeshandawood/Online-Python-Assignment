{
 "cells": [
  {
   "cell_type": "code",
   "execution_count": 7,
   "metadata": {},
   "outputs": [
    {
     "name": "stdout",
     "output_type": "stream",
     "text": [
      "10\n",
      "0\n",
      "25\n",
      "1\n",
      "3125\n"
     ]
    }
   ],
   "source": [
    "# 1. Make a calculator using Python with addition , subtraction , multiplication ,\n",
    "# division and power.\n",
    "\n",
    "class Calculator():\n",
    "    def addition(a,b):\n",
    "        print(a+b) \n",
    "    def subtraction(a,b):\n",
    "        print(a-b)\n",
    "    def multiplication(a,b):\n",
    "        print(a*b)\n",
    "    def division(a,b):\n",
    "        print(a//b)\n",
    "    def power(a,b):\n",
    "        print(a**b)\n",
    "c=Calculator\n",
    "c.addition(5,5)\n",
    "c.subtraction(5,5)\n",
    "c.multiplication(5,5)\n",
    "c.division(5,5)\n",
    "c.power(5,5)\n",
    "\n"
   ]
  },
  {
   "cell_type": "code",
   "execution_count": 12,
   "metadata": {},
   "outputs": [
    {
     "name": "stdout",
     "output_type": "stream",
     "text": [
      "99 is a number in list \n"
     ]
    }
   ],
   "source": [
    "# 2. Write a program to check if there is any numeric value in list using for loop\n",
    "\n",
    "def check(list):\n",
    "    for i in range(len(list)):\n",
    "        \n",
    "        if type(list[i]) == int:\n",
    "            \n",
    "            print( f\"{list[i]} is a number in list \")\n",
    "        \n",
    "list=[\"Z\",\"E\",99,\" \"]   \n",
    "check(list)\n"
   ]
  },
  {
   "cell_type": "code",
   "execution_count": 13,
   "metadata": {},
   "outputs": [
    {
     "name": "stdout",
     "output_type": "stream",
     "text": [
      "24 sum of list \n"
     ]
    }
   ],
   "source": [
    "# 3. Write a Python script to add a key to a dictionary\n",
    "\n",
    "def check(list):\n",
    "    count=0\n",
    "    for x in range(len(list)):\n",
    "        \n",
    "        if type(list[x]) == int:\n",
    "            count+=list[x]\n",
    "            \n",
    "    print(f\"{count} sum of list \")\n",
    "list=[\"Z\",\"D\",9,\" \",8,7]   \n",
    "check(list)\n"
   ]
  },
  {
   "cell_type": "code",
   "execution_count": 16,
   "metadata": {},
   "outputs": [
    {
     "name": "stdout",
     "output_type": "stream",
     "text": [
      "{'Name': 'Zeeshan', 'Father NAme': 'Dawood', 'Address': 'Mehmoodabad No 6'}\n"
     ]
    }
   ],
   "source": [
    "# 4. Write a Python program to sum all the numeric items in a dictionary\n",
    "dictionary={\"Name\":\"Zeeshan\",\"Father NAme\":\"Dawood\"}\n",
    "dictionary[\"Address\"]=\"Mehmoodabad No 6\"\n",
    "print(dictionary)"
   ]
  },
  {
   "cell_type": "code",
   "execution_count": 17,
   "metadata": {},
   "outputs": [
    {
     "name": "stdout",
     "output_type": "stream",
     "text": [
      "9 is duplicate\n",
      "3 is duplicate\n"
     ]
    }
   ],
   "source": [
    "# 5. Write a program to identify duplicate values from list\n",
    "list=[9,9,5,3,3]\n",
    "for i in range(len(list)):\n",
    "    if i!=len(list)-1:\n",
    "        if(list[i]==list[i+1]):\n",
    "            print(f\"{list[i]} is duplicate\")\n",
    "\n",
    "\n"
   ]
  },
  {
   "cell_type": "code",
   "execution_count": 18,
   "metadata": {},
   "outputs": [
    {
     "name": "stdout",
     "output_type": "stream",
     "text": [
      "Key is not present in the dictionary\n",
      "Key is present in the dictionary\n"
     ]
    }
   ],
   "source": [
    "# 6. Write a Python script to check if a given key already exists in a dictionary \n",
    "dictionary = {1: 10, 2: 20, 3: 30, 4: 40, 5: 50, 6: 60}\n",
    "def is_key_present(i):\n",
    "  if i in dictionary:\n",
    "      print('Key is present in the dictionary')\n",
    "  else:\n",
    "      print('Key is not present in the dictionary')\n",
    "is_key_present(7)\n",
    "is_key_present(6)  \n"
   ]
  },
  {
   "cell_type": "code",
   "execution_count": null,
   "metadata": {},
   "outputs": [],
   "source": []
  }
 ],
 "metadata": {
  "kernelspec": {
   "display_name": "Python 3",
   "language": "python",
   "name": "python3"
  },
  "language_info": {
   "codemirror_mode": {
    "name": "ipython",
    "version": 3
   },
   "file_extension": ".py",
   "mimetype": "text/x-python",
   "name": "python",
   "nbconvert_exporter": "python",
   "pygments_lexer": "ipython3",
   "version": "3.7.4"
  }
 },
 "nbformat": 4,
 "nbformat_minor": 2
}
