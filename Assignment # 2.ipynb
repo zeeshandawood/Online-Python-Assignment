{
 "cells": [
  {
   "cell_type": "code",
   "execution_count": 4,
   "metadata": {},
   "outputs": [
    {
     "name": "stdout",
     "output_type": "stream",
     "text": [
      "\n",
      " \n",
      "\n",
      "Enter Your Name:       Zeeshan Dawood\n",
      "Enter Your Roll Nbr:   021-15-31197\n",
      "\n",
      " \n",
      "\n",
      "Enter Engish Marks out of 100            : 88\n",
      "Enter Urdu Marks out of 100              : 99\n",
      "Enter Islamiat Marks out of 100          : 55\n",
      "Enter Pakistan Studies Marks out of 100  : 88\n",
      "Enter Sindhi Marks out of 100            : 77\n",
      "\n",
      " \n",
      "\n",
      "Name:        Zeeshan Dawood\n",
      "Roll nbr:    021-15-31197\n",
      "\n",
      " \n",
      "\n",
      "SUBJECT           Total Marks        Obtain Marks\n",
      "\n",
      "\n",
      "URDU              100                99\n",
      "ISLAMIAT          100                55\n",
      "PST               100                88\n",
      "ENGLISH           100                88\n",
      "SINDHI            100                77\n",
      "\n",
      " \n",
      "\n",
      "Total        : 500          Obtain Marks :  407\n",
      "Percentage   :   81.4\n",
      "Grade A+\n"
     ]
    }
   ],
   "source": [
    "#1. Write a program which takes 5 inputs from user for different subject’s\n",
    "# marks, total it and generate mark sheet using grades ?\n",
    "\n",
    "print(\"\\n \\n\");\n",
    "name =    input(\"Enter Your Name:       \")\n",
    "rol_nbr = input(\"Enter Your Roll Nbr:   \")\n",
    "print(\"\\n \\n\");\n",
    "eng = int(input(\"Enter Engish Marks out of 100            : \"))\n",
    "urd = int(input(\"Enter Urdu Marks out of 100              : \"))\n",
    "isl = int(input(\"Enter Islamiat Marks out of 100          : \"))\n",
    "pst = int(input(\"Enter Pakistan Studies Marks out of 100  : \"))\n",
    "sin = int(input(\"Enter Sindhi Marks out of 100            : \"))\n",
    "print(\"\\n \\n\");\n",
    "print(\"Name:       \",name)\n",
    "print(\"Roll nbr:   \", rol_nbr)\n",
    "\n",
    "print(\"\\n \\n\");\n",
    "\n",
    "print(\"SUBJECT  \",\"      \", \" Total Marks \", \"     \", \"Obtain Marks\\n\\n\")\n",
    "print(\"URDU     \",\"      \", \" 100         \", \"     \", urd)\n",
    "print(\"ISLAMIAT \",\"      \", \" 100         \", \"     \", isl)\n",
    "print(\"PST      \",\"      \", \" 100         \", \"     \", pst)\n",
    "print(\"ENGLISH  \",\"      \", \" 100         \", \"     \", eng)\n",
    "print(\"SINDHI   \",\"      \", \" 100         \", \"     \", sin)\n",
    "\n",
    "print(\"\\n \\n\");\n",
    "\n",
    "marks_obtain = eng + urd + isl + pst + sin\n",
    "print(\"Total        : 500\", \"        \", \"Obtain Marks : \",marks_obtain);\n",
    "per = float((marks_obtain * 100) / 500)\n",
    "\n",
    "print(\"Percentage   : \", per );\n",
    "\n",
    "if (per >= 0.0) & (per <= 29.9) :\n",
    "    print(\"Fail\")\n",
    "elif (per >= 80.0) & (per <= 100.0) :\n",
    "    print(\"Grade A+\")\n",
    "elif (per >= 70.0) & (per <= 79.9) :\n",
    "    print(\"Grade A\")\n",
    "elif (per >= 60.0) & (per <= 69.9) :\n",
    "    print(\"Grade B\")\n",
    "elif (per >= 50.0) & (per <= 59.9) :\n",
    "    print(\"Grade C\")\n",
    "elif (per >= 40.0) & (per <= 49.9) :\n",
    "    print(\"Grade D\")\n",
    "elif (per >= 30.0) & (per <= 39.9) :\n",
    "    print(\"Grade E\")\n",
    "else:\n",
    "    print(\"Invalid Numbers\")"
   ]
  },
  {
   "cell_type": "code",
   "execution_count": 5,
   "metadata": {},
   "outputs": [
    {
     "name": "stdout",
     "output_type": "stream",
     "text": [
      "Enter Number:  5\n",
      "Number is Odd:   5\n"
     ]
    }
   ],
   "source": [
    "#2. Write a program which take input from user and identify that the given\n",
    "# number is even or odd?\n",
    "\n",
    "inp = int(input(\"Enter Number:  \"))\n",
    "\n",
    "if (inp % 2 ) == 0 :\n",
    "    print(\"Number is Even: \", inp)\n",
    "else:\n",
    "    print(\"Number is Odd:  \", inp)"
   ]
  },
  {
   "cell_type": "code",
   "execution_count": 8,
   "metadata": {},
   "outputs": [
    {
     "name": "stdout",
     "output_type": "stream",
     "text": [
      "First list length :  4\n",
      "Second list length :  2\n"
     ]
    }
   ],
   "source": [
    "# 3. Write a program which print the length of the list?\n",
    "\n",
    "list1, list2 = [123, 'zeeshan', 'dawood','Iqra University'], [999, 'abc']\n",
    "print(\"First list length : \", len(list1))\n",
    "print(\"Second list length : \", len(list2))"
   ]
  },
  {
   "cell_type": "code",
   "execution_count": 15,
   "metadata": {},
   "outputs": [
    {
     "name": "stdout",
     "output_type": "stream",
     "text": [
      "15\n"
     ]
    }
   ],
   "source": [
    "# 4. Write a Python program to sum all the numeric items in a list?\n",
    "\n",
    "my_list1 = [1,2,3,4,5]\n",
    "total = sum(my_list1)\n",
    "print(total)\n"
   ]
  },
  {
   "cell_type": "code",
   "execution_count": 17,
   "metadata": {},
   "outputs": [
    {
     "name": "stdout",
     "output_type": "stream",
     "text": [
      "Largest Number is:  15\n"
     ]
    }
   ],
   "source": [
    "# 5. Write a Python program to get the largest number from a numeric list.\n",
    "my_list1 = [1,2,15,4,5]\n",
    "print(\"Largest Number is: \", max(my_list1))"
   ]
  },
  {
   "cell_type": "code",
   "execution_count": 24,
   "metadata": {},
   "outputs": [
    {
     "name": "stdout",
     "output_type": "stream",
     "text": [
      "[1, 1, 2, 3]\n"
     ]
    }
   ],
   "source": [
    "''' 6. Take a list, say for example this one:\n",
    " a = [1, 1, 2, 3, 5, 8, 13, 21, 34, 55, 89]\n",
    "and write a program that prints out all the elements of the list that are\n",
    "less than 5. '''\n",
    "\n",
    "a = [1, 1, 2, 3, 5, 8, 10, 20, 30, 45, 50]\n",
    "\n",
    "num = [item for item in a if item < 5]\n",
    "\n",
    "print(num)"
   ]
  },
  {
   "cell_type": "code",
   "execution_count": null,
   "metadata": {},
   "outputs": [],
   "source": []
  },
  {
   "cell_type": "code",
   "execution_count": null,
   "metadata": {},
   "outputs": [],
   "source": []
  }
 ],
 "metadata": {
  "kernelspec": {
   "display_name": "Python 3",
   "language": "python",
   "name": "python3"
  },
  "language_info": {
   "codemirror_mode": {
    "name": "ipython",
    "version": 3
   },
   "file_extension": ".py",
   "mimetype": "text/x-python",
   "name": "python",
   "nbconvert_exporter": "python",
   "pygments_lexer": "ipython3",
   "version": "3.7.4"
  }
 },
 "nbformat": 4,
 "nbformat_minor": 2
}
