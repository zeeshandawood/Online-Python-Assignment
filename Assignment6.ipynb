{
 "cells": [
  {
   "cell_type": "code",
   "execution_count": 1,
   "metadata": {},
   "outputs": [],
   "source": [
    "#Qno1 Define Object Oriented Programming Language?\n",
    "\n",
    "# Object-oriented programming (OOP) is a programming paradigm based on the concept of \"objects\", \n",
    "# which can contain data, in the form of fields (often known as attributes or properties), \n",
    "# and code, in the form of procedures (often known as methods). A feature of objects is an object's \n",
    "# procedures that can access and often modify the data fields of the object with which they are \n",
    "# associated (objects have a notion of \"this\" or \"self\").\n",
    "\n",
    "\n"
   ]
  },
  {
   "cell_type": "code",
   "execution_count": 2,
   "metadata": {},
   "outputs": [],
   "source": [
    "#Qno2 List down the Benefits of OOP?\n",
    "\n",
    "#The advantages of OOP are mentioned below:\n",
    "\n",
    "# OOP provides a clear modular structure for programs.\n",
    "# It is good for defining abstract data types.\n",
    "# Implementation details are hidden from other modules and other modules has a clearly defined interface.\n",
    "# It is easy to maintain and modify existing code as new objects can be created with small differences to existing ones.\n",
    "# objects, methods, instance, message passing, inheritance are some important properties provided by these particular languages\n",
    "# encapsulation, polymorphism, abstraction are also counts in these fundamentals of programming language.\n",
    "# It implements real life scenario.\n",
    "# In OOP, programmer not only defines data types but also deals with operations applied for data structures.\n"
   ]
  },
  {
   "cell_type": "code",
   "execution_count": 3,
   "metadata": {},
   "outputs": [],
   "source": [
    "#Qno3 Differentiate between function and method?\n",
    "\n",
    "#A function is a piece of code that is called by name. It can be passed data to operate on \n",
    "# (i.e. the parameters) and can optionally return data (the return value). All data that is \n",
    "# passed to a function is explicitly passed.\n",
    "\n",
    "# A method is a piece of code that is called by a name that is associated with an object. \n",
    "# In most respects it is identical to a function except for two key differences:\n",
    "\n",
    "# A method is implicitly passed the object on which it was called.\n",
    "# A method is able to operate on data that is contained within the class \n",
    "# (remembering that an object is an instance of a class - the class is the definition, the object is an instance of that data)."
   ]
  },
  {
   "cell_type": "code",
   "execution_count": 4,
   "metadata": {},
   "outputs": [],
   "source": [
    "#Qno4 Define the following terms:\n",
    "# 1. Class\n",
    "# 2. Object\n",
    "# 3. Attribute\n",
    "# 4. Behavior\n",
    "\n",
    "\n",
    "\n",
    "# 1. Classes (OOP) In object-oriented programming, a class is a blueprint for creating objects (a particular data structure), \n",
    "# providing initial values for state (member variables or attributes), and implementations of behavior \n",
    "# (member functions or methods). The user-defined objects are created using the class keyword\n",
    "\n",
    "# 2. In object-oriented programming (OOP), objects are the things you think about first in designing a program \n",
    "# and they are also the units of code that are eventually derived from the process. Each object is an instance of \n",
    "# a particular class or subclass with the class's own methods or procedures and data variables. \n",
    "\n",
    "# 3. In Object-oriented programming(OOP), classes and objects have attributes. Attributes are data stored inside \n",
    "# a class or instance and represent the state or quality of the class or instance. In short, attributes store \n",
    "# information about the instance.\n",
    "\n",
    "# 4.Behavior. A class's behavior determines how an instance of that class operates; for example, \n",
    "# how it will \"react\" if asked to do something by another class or object or if its internal state changes. \n",
    "# Behavior is the only way objects can do anything to themselves or have anything done to them."
   ]
  },
  {
   "cell_type": "code",
   "execution_count": 9,
   "metadata": {},
   "outputs": [],
   "source": [
    "# Write a code in python in which create a class named it Car whichhave 5 attributes such like (model, color and name etc.) \n",
    "# and 3 methods. And create 5 object instance from that class.\n",
    "\n",
    "class Car :\n",
    "\n",
    "    # class attributes\n",
    "    name = \"civic\"\n",
    "    make = \"Honda\"\n",
    "    color = \"Blue\"\n",
    "    model = 2008\n",
    "    Reg_No = \"AXY-355\"\n",
    "\n",
    "    # create class methods\n",
    "    def start(Self,a,b,c,d):\n",
    "        print (\"Engine started\")\n",
    "\n",
    "    def stop(self,w,x,y,z):\n",
    "        print (\"Engine switched off\")\n",
    "        \n",
    "    def maintaince(Self,door,wheel,engine,complete):\n",
    "        print (\"Whole Car is Ok! \")\n",
    "  "
   ]
  },
  {
   "cell_type": "code",
   "execution_count": null,
   "metadata": {},
   "outputs": [],
   "source": []
  }
 ],
 "metadata": {
  "kernelspec": {
   "display_name": "Python 3",
   "language": "python",
   "name": "python3"
  },
  "language_info": {
   "codemirror_mode": {
    "name": "ipython",
    "version": 3
   },
   "file_extension": ".py",
   "mimetype": "text/x-python",
   "name": "python",
   "nbconvert_exporter": "python",
   "pygments_lexer": "ipython3",
   "version": "3.7.4"
  }
 },
 "nbformat": 4,
 "nbformat_minor": 2
}
